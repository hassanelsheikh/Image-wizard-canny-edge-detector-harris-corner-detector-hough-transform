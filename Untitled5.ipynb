{
  "cells": [
    {
      "cell_type": "code",
      "execution_count": 1,
      "metadata": {
        "id": "yJIvmp26zq6P"
      },
      "outputs": [],
      "source": [
        "import numpy as np\n",
        "import matplotlib.pyplot as plt\n",
        "from PIL import Image"
      ]
    },
    {
      "cell_type": "markdown",
      "metadata": {
        "id": "cAhL6kNj613z"
      },
      "source": [
        "**Functions definition**"
      ]
    },
    {
      "cell_type": "code",
      "execution_count": 7,
      "metadata": {
        "id": "gmQSRjWY6-Kg"
      },
      "outputs": [],
      "source": [
        "\n",
        "def rgb_to_grayscale(im):\n",
        "    \"\"\"Converts a 3-channel RGB image to a single-channel grayscale image.\"\"\"\n",
        "    if len(im.shape) == 3:  # Only convert if the image is RGB\n",
        "        return np.dot(im[..., :3], [0.2989, 0.5870, 0.1140])\n",
        "    return im  # Return the image as is if it's already grayscale\n",
        "\n",
        "\n",
        "def edge_detection(image, threshold=100):\n",
        "    sobel_x = np.array([[-1, 0, 1], [-2, 0, 2], [-1, 0, 1]])\n",
        "    sobel_y = np.array([[1, 2, 1], [0, 0, 0], [-1, -2, -1]])\n",
        "\n",
        "    gx = np.zeros_like(image)\n",
        "    gy = np.zeros_like(image)\n",
        "\n",
        "    # Convolution operation\n",
        "    for i in range(1, image.shape[0] - 1):\n",
        "        for j in range(1, image.shape[1] - 1):\n",
        "            gx[i, j] = np.sum(np.multiply(image[i-1:i+2, j-1:j+2], sobel_x))\n",
        "            gy[i, j] = np.sum(np.multiply(image[i-1:i+2, j-1:j+2], sobel_y))\n",
        "\n",
        "    # Calculate the gradient magnitude\n",
        "    magnitude = np.sqrt(gx**2 + gy**2)\n",
        "    magnitude = np.where(magnitude > threshold, magnitude, 0)\n",
        "\n",
        "    return magnitude\n",
        "\n",
        "def hough_transform(image, theta_res=1, rho_res=1):\n",
        "    height, width = image.shape\n",
        "    max_rho = int(np.sqrt(height**2 + width**2))\n",
        "    rhos = np.arange(-max_rho, max_rho, rho_res)\n",
        "    thetas = np.deg2rad(np.arange(-90, 90, theta_res))\n",
        "\n",
        "    accumulator = np.zeros((len(rhos), len(thetas)), dtype=np.uint64)\n",
        "\n",
        "    y_idxs, x_idxs = np.nonzero(image)  # Get coordinates of non-zero values (edge points)\n",
        "\n",
        "    for i in range(len(x_idxs)):\n",
        "        x = x_idxs[i]\n",
        "        y = y_idxs[i]\n",
        "\n",
        "        for j in range(len(thetas)):\n",
        "            rho = int((x * np.cos(thetas[j]) + y * np.sin(thetas[j])) / rho_res) + max_rho\n",
        "            accumulator[rho, j] += 1\n",
        "\n",
        "    return accumulator, thetas, rhos\n",
        "\n",
        "def detect_lines(accumulator, thetas, rhos, threshold):\n",
        "    lines = []\n",
        "    for rho_idx in range(accumulator.shape[0]):\n",
        "        for theta_idx in range(accumulator.shape[1]):\n",
        "            if accumulator[rho_idx, theta_idx] > threshold:\n",
        "                rho = rhos[rho_idx]\n",
        "                theta = thetas[theta_idx]\n",
        "                lines.append((rho, theta))\n",
        "    return lines\n",
        "\n",
        "def plot_detected_lines(image, accumulator, rhos, thetas, threshold_ratio=0.5):\n",
        "    # Set a dynamic threshold based on the max value in the accumulator\n",
        "    threshold = threshold_ratio * accumulator.max()\n",
        "\n",
        "    lines = detect_lines(accumulator, thetas, rhos, threshold)\n",
        "\n",
        "    # Create a copy of the image to draw lines on\n",
        "    line_image = np.copy(image)\n",
        "\n",
        "    print(f\"Threshold: {threshold}\")\n",
        "    print(\"Detected lines (rho, theta):\")\n",
        "\n",
        "    # Plot the lines on the copy of the image\n",
        "    for rho, theta in lines:\n",
        "        print(f\"({rho}, {theta})\")  # Debug print statement\n",
        "        a = np.cos(theta)\n",
        "        b = np.sin(theta)\n",
        "        x0 = a * rho\n",
        "        y0 = b * rho\n",
        "        x1 = int(x0 + 1000 * (-b))\n",
        "        y1 = int(y0 + 1000 * (a))\n",
        "        x2 = int(x0 - 1000 * (-b))\n",
        "        y2 = int(y0 - 1000 * (a))\n",
        "\n",
        "        print(f\"Line endpoints: ({x1}, {y1}), ({x2}, {y2})\")  # Debug print statement\n",
        "\n",
        "        # Draw lines on the image copy\n",
        "        plt.plot((x1, x2), (y1, y2), 'red', linewidth=2)  # Increased line width for visibility\n",
        "\n",
        "    # Display the original image and the image with lines\n",
        "    fig, axes = plt.subplots(1, 2, figsize=(15, 15))\n",
        "    axes[0].imshow(image, cmap='gray')\n",
        "    axes[0].set_title('Input Image')\n",
        "    axes[0].axis('off')\n",
        "\n",
        "    axes[1].imshow(line_image, cmap='gray')\n",
        "    axes[1].set_title('Detected Lines')\n",
        "    axes[1].axis('off')\n",
        "\n",
        "    plt.tight_layout()\n",
        "    plt.show()\n"
      ]
    },
    {
      "cell_type": "markdown",
      "metadata": {
        "id": "KzDyjuuunHmW"
      },
      "source": []
    },
    {
      "cell_type": "markdown",
      "metadata": {
        "id": "IOInvg0bDzF8"
      },
      "source": [
        "**Image upload and conversion**"
      ]
    },
    {
      "cell_type": "code",
      "execution_count": null,
      "metadata": {
        "id": "VX0YXs_g7c5A"
      },
      "outputs": [],
      "source": [
        "image_path = '/utils/line_detection.png'\n",
        "image = np.array(Image.open(image_path).convert('L'))\n",
        "gray_image = rgb_to_grayscale(image)\n",
        "edges = edge_detection(gray_image, threshold=10)"
      ]
    },
    {
      "cell_type": "markdown",
      "metadata": {
        "id": "bivBEZgMFaY9"
      },
      "source": [
        "**Hough Transform**"
      ]
    },
    {
      "cell_type": "code",
      "execution_count": null,
      "metadata": {
        "colab": {
          "base_uri": "https://localhost:8080/",
          "height": 570
        },
        "id": "k7R4SqDXFei-",
        "outputId": "b7dc2602-1999-4835-9f96-94b0b4c7202a"
      },
      "outputs": [
        {
          "name": "stdout",
          "output_type": "stream",
          "text": [
            "Threshold: 0.0\n",
            "Detected lines (rho, theta):\n"
          ]
        },
        {
          "data": {
            "image/png": "[encoded data removed]",
            "text/plain": [
              "<Figure size 1500x1500 with 2 Axes>"
            ]
          },
          "metadata": {},
          "output_type": "display_data"
        }
      ],
      "source": [
        "# Hough transform\n",
        "accumulator, thetas, rhos = hough_transform(edges, theta_res=1, rho_res=1)\n",
        "\n",
        "# Plot detected lines with a dynamic threshold\n",
        "plot_detected_lines(gray_image, accumulator, rhos, thetas, threshold_ratio=0.01)"
      ]
    }
  ],
  "metadata": {
    "colab": {
      "provenance": []
    },
    "kernelspec": {
      "display_name": "Python 3",
      "name": "python3"
    },
    "language_info": {
      "codemirror_mode": {
        "name": "ipython",
        "version": 3
      },
      "file_extension": ".py",
      "mimetype": "text/x-python",
      "name": "python",
      "nbconvert_exporter": "python",
      "pygments_lexer": "ipython3",
      "version": "3.11.4"
    }
  },
  "nbformat": 4,
  "nbformat_minor": 0
}
