{
  "cells": [
    {
      "cell_type": "code",
      "execution_count": 2,
      "metadata": {
        "id": "yJIvmp26zq6P"
      },
      "outputs": [],
      "source": [
        "import numpy as np\n",
        "import matplotlib.pyplot as plt\n",
        "from PIL import Image\n",
        "import cv2 \n",
        "import math "
      ]
    },
    {
      "cell_type": "markdown",
      "metadata": {
        "id": "cAhL6kNj613z"
      },
      "source": [
        "**Functions definition**"
      ]
    },
    {
      "cell_type": "code",
      "execution_count": 10,
      "metadata": {
        "id": "gmQSRjWY6-Kg"
      },
      "outputs": [],
      "source": [
        "def rgb_to_grayscale(im):\n",
        "    \"\"\"Converts a 3-channel RGB image to a single-channel grayscale image.\"\"\"\n",
        "    if len(im.shape) == 3:  # Only convert if the image is RGB\n",
        "        return cv2.cvtColor(im, cv2.COLOR_RGB2GRAY)\n",
        "    return im  # Return the image as is if it's already grayscale\n",
        "\n",
        "def preprocess_image(image):\n",
        "    \"\"\"\n",
        "    Preprocesses the image for line detection.\n",
        "\n",
        "    Args:\n",
        "        image: A 2D grayscale image (numpy array).\n",
        "\n",
        "    Returns:\n",
        "        A preprocessed grayscale image.\n",
        "    \"\"\"\n",
        "    # Apply Gaussian blur for noise reduction\n",
        "    image = cv2.GaussianBlur(image, (5, 5), 0)\n",
        "    return image\n",
        "\n",
        "def hough_line_transform(image, threshold=30, rho_resolution=0.5, theta_resolution=0.5):\n",
        "    \"\"\"\n",
        "    Detects lines in a grayscale image using Hough Line Transform.\n",
        "\n",
        "    Args:\n",
        "        image: A 2D grayscale image (numpy array).\n",
        "        threshold: Minimum number of votes required to consider a line.\n",
        "        rho_resolution: Resolution for the rho parameter.\n",
        "        theta_resolution: Resolution for the theta parameter.\n",
        "\n",
        "    Returns:\n",
        "        lines: A list of tuples (rho, theta) representing the detected lines.\n",
        "    \"\"\"\n",
        "    # Calculate the maximum rho based on the image diagonal\n",
        "    height, width = image.shape\n",
        "    img_diagonal = np.ceil(np.sqrt(height**2 + width**2))\n",
        "    max_rho = int(np.ceil(img_diagonal / rho_resolution)) * rho_resolution\n",
        "    \n",
        "    # Define parameter space for rhos and thetas\n",
        "    rhos = np.arange(-max_rho, max_rho + 1, rho_resolution)\n",
        "    thetas = np.deg2rad(np.arange(-90, 90, theta_resolution))\n",
        "\n",
        "    # Create an empty Hough Accumulator\n",
        "    accumulator = np.zeros((len(rhos), len(thetas)), dtype=np.uint64)\n",
        "\n",
        "    # Iterate through all edge points in the image\n",
        "    y_idxs, x_idxs = np.nonzero(image)\n",
        "    for i in range(len(x_idxs)):\n",
        "        x = x_idxs[i]\n",
        "        y = y_idxs[i]\n",
        "\n",
        "        for j in range(len(thetas)):\n",
        "            rho = x * np.cos(thetas[j]) + y * np.sin(thetas[j])\n",
        "            rho_idx = int(np.round((rho + max_rho) / rho_resolution))\n",
        "            accumulator[rho_idx, j] += 1\n",
        "\n",
        "    \n",
        "    \n",
        "    # Apply the threshold\n",
        "    accumulator[accumulator < threshold] = 0\n",
        "\n",
        "    # Find indices of non-zero values in thresholded accumulator\n",
        "    rho_indices, theta_indices = np.nonzero(accumulator)\n",
        "    rhos_detected = rhos[rho_indices]\n",
        "    thetas_detected = thetas[theta_indices]\n",
        "    \n",
        "    # Combine rho and theta values into a single list of line parameters\n",
        "    lines = list(zip(rhos_detected, thetas_detected))\n",
        "    \n",
        "    return lines\n",
        "\n",
        "def visualize_lines(image, lines):\n",
        "    \"\"\"\n",
        "    Visualizes the detected lines on the original image.\n",
        "\n",
        "    Args:\n",
        "        image: The original grayscale image.\n",
        "        lines: A list of tuples (rho, theta) representing the detected lines.\n",
        "    \"\"\"\n",
        "    # Convert image to RGB if it's grayscale\n",
        "    if len(image.shape) == 2:\n",
        "        image = cv2.cvtColor(image, cv2.COLOR_GRAY2BGR)\n",
        "\n",
        "    # Create an empty line image for visualization\n",
        "    line_image = np.zeros_like(image)\n",
        "    \n",
        "    # Iterate through the detected lines and draw them\n",
        "    if lines is not None:\n",
        "        for rho, theta in lines:\n",
        "            a = np.cos(theta)\n",
        "            b = np.sin(theta)\n",
        "            x0 = rho * a\n",
        "            y0 = rho * b\n",
        "            x1 = int(x0 + 1000 * (-b))\n",
        "            y1 = int(y0 + 1000 * a)\n",
        "            x2 = int(x0 - 1000 * (-b))\n",
        "            y2 = int(y0 - 1000 * a)\n",
        "            cv2.line(line_image, (x1, y1), (x2, y2), (0, 255,0 ), 5)  \n",
        "\n",
        "    # Overlay the lines onto the original image\n",
        "    overlay_image = cv2.addWeighted(image, 0.5, line_image, 0.3, 0)\n",
        "    \n",
        "    # Display the overlay image\n",
        "    cv2.imshow('Original Image', image)\n",
        "    cv2.imshow('Detected Lines', overlay_image)\n",
        "    \n",
        "    # Wait for a key press to close the window\n",
        "    cv2.waitKey(0)\n",
        "    cv2.destroyAllWindows()\n"
      ]
    },
    {
      "cell_type": "markdown",
      "metadata": {
        "id": "KzDyjuuunHmW"
      },
      "source": []
    },
    {
      "cell_type": "markdown",
      "metadata": {
        "id": "IOInvg0bDzF8"
      },
      "source": [
        "**Image upload and conversion**"
      ]
    },
    {
      "cell_type": "code",
      "execution_count": 11,
      "metadata": {
        "id": "VX0YXs_g7c5A"
      },
      "outputs": [
        {
          "ename": "TypeError",
          "evalue": "hough_line_transform() missing 1 required positional argument: 'image'",
          "output_type": "error",
          "traceback": [
            "\u001b[1;31m---------------------------------------------------------------------------\u001b[0m",
            "\u001b[1;31mTypeError\u001b[0m                                 Traceback (most recent call last)",
            "Cell \u001b[1;32mIn [11], line 9\u001b[0m\n\u001b[0;32m      1\u001b[0m image \u001b[38;5;241m=\u001b[39m cv2\u001b[38;5;241m.\u001b[39mimread(\u001b[38;5;124m'\u001b[39m\u001b[38;5;124m148c60c1-f500-43bf-9574-0e561378a358.jpg\u001b[39m\u001b[38;5;124m'\u001b[39m, cv2\u001b[38;5;241m.\u001b[39mIMREAD_GRAYSCALE)\n\u001b[0;32m      3\u001b[0m     \u001b[38;5;66;03m# Preprocess the image\u001b[39;00m\n\u001b[0;32m      4\u001b[0m \u001b[38;5;66;03m# preprocessed_image = preprocess_image(image)\u001b[39;00m\n\u001b[0;32m      5\u001b[0m     \u001b[38;5;66;03m# Apply Canny edge detection\u001b[39;00m\n\u001b[0;32m      6\u001b[0m \u001b[38;5;66;03m#edges = cv2.Canny(preprocessed_image, 50, 150)\u001b[39;00m\n\u001b[0;32m      7\u001b[0m \n\u001b[0;32m      8\u001b[0m     \u001b[38;5;66;03m# Detect lines using the Hough Line Transform\u001b[39;00m\n\u001b[1;32m----> 9\u001b[0m lines \u001b[38;5;241m=\u001b[39m \u001b[43mhough_line_transform\u001b[49m\u001b[43m(\u001b[49m\u001b[43mthreshold\u001b[49m\u001b[38;5;241;43m=\u001b[39;49m\u001b[38;5;241;43m150\u001b[39;49m\u001b[43m,\u001b[49m\u001b[43m \u001b[49m\u001b[43mrho_resolution\u001b[49m\u001b[38;5;241;43m=\u001b[39;49m\u001b[38;5;241;43m2\u001b[39;49m\u001b[43m,\u001b[49m\u001b[43m \u001b[49m\u001b[43mtheta_resolution\u001b[49m\u001b[38;5;241;43m=\u001b[39;49m\u001b[38;5;241;43m1\u001b[39;49m\u001b[43m)\u001b[49m\n\u001b[0;32m     11\u001b[0m     \u001b[38;5;66;03m# Visualize the detected lines on the original image\u001b[39;00m\n\u001b[0;32m     12\u001b[0m visualize_lines(image, lines)\n",
            "\u001b[1;31mTypeError\u001b[0m: hough_line_transform() missing 1 required positional argument: 'image'"
          ]
        }
      ],
      "source": [
        "image_path = 'utils/lines.png'  # Replace with your image path\n",
        "image = np.array(Image.open(image_path).convert('L'))\n",
        "\n",
        "    # Convert the image to grayscale if necessary\n",
        "grayscale_image = rgb_to_grayscale(image)\n",
        "\n",
        "    # Preprocess the image\n",
        "preprocessed_image = preprocess_image(grayscale_image)\n",
        "\n",
        "    # Apply Canny edge detection\n",
        "edges = cv2.Canny(preprocessed_image, 50, 150)\n",
        "\n",
        "    # Detect lines using the Hough Line Transform\n",
        "lines = hough_line_transform(edges, threshold=150, rho_resolution=2, theta_resolution=1)\n",
        "\n",
        "    # Visualize the detected lines on the original image\n",
        "visualize_lines(grayscale_image, lines)"
      ]
    },
    {
      "cell_type": "code",
      "execution_count": null,
      "metadata": {},
      "outputs": [],
      "source": []
    }
  ],
  "metadata": {
    "colab": {
      "provenance": []
    },
    "kernelspec": {
      "display_name": "Python 3",
      "name": "python3"
    },
    "language_info": {
      "codemirror_mode": {
        "name": "ipython",
        "version": 3
      },
      "file_extension": ".py",
      "mimetype": "text/x-python",
      "name": "python",
      "nbconvert_exporter": "python",
      "pygments_lexer": "ipython3",
      "version": "3.10.5"
    }
  },
  "nbformat": 4,
  "nbformat_minor": 0
}
