{
 "cells": [
  {
   "cell_type": "code",
   "execution_count": 6,
   "metadata": {},
   "outputs": [],
   "source": [
    "import cv2\n",
    "import numpy as np"
   ]
  },
  {
   "cell_type": "code",
   "execution_count": 3,
   "metadata": {},
   "outputs": [],
   "source": []
  },
  {
   "cell_type": "code",
   "execution_count": 4,
   "metadata": {},
   "outputs": [],
   "source": []
  },
  {
   "cell_type": "code",
   "execution_count": 5,
   "metadata": {},
   "outputs": [],
   "source": []
  },
  {
   "cell_type": "code",
   "execution_count": 31,
   "metadata": {},
   "outputs": [],
   "source": [
    "#apply gaussian blur\n",
    "def gaussianblur(image, kernel_size=3):\n",
    "    # Generate Gaussian kernel\n",
    "    kernel = np.ones((kernel_size, kernel_size), dtype=np.float32)\n",
    "    kernel /= kernel_size ** 2\n",
    "    \n",
    "    # Convolve image with Gaussian kernel\n",
    "    blurred_image = cv2.filter2D(image, -1, kernel)\n",
    "    \n",
    "    return blurred_image\n",
    "\n"
   ]
  },
  {
   "cell_type": "code",
   "execution_count": 32,
   "metadata": {},
   "outputs": [],
   "source": [
    "def gradient_intensity(image):\n",
    "    # Sobel kernels\n",
    "    kernel_x = np.array([[-1, 0, 1], [-2, 0, 2], [-1, 0, 1]], dtype=np.float32)\n",
    "    kernel_y = np.array([[1, 2, 1], [0, 0, 0], [-1, -2, -1]], dtype=np.float32)\n",
    "    \n",
    "    # Compute gradients\n",
    "    gradient_x = cv2.filter2D(image, -1, kernel_x)\n",
    "    gradient_y = cv2.filter2D(image, -1, kernel_y)\n",
    "    \n",
    "    # Compute gradient magnitude\n",
    "    gradient_magnitude = np.sqrt(gradient_x ** 2 + gradient_y ** 2)\n",
    "    \n",
    "    # Normalize gradient magnitude to [0, 255]\n",
    "    gradient_magnitude = (gradient_magnitude / np.max(gradient_magnitude)) * 255\n",
    "    \n",
    "    return gradient_magnitude\n",
    "\n"
   ]
  },
  {
   "cell_type": "code",
   "execution_count": 33,
   "metadata": {},
   "outputs": [],
   "source": [
    "#gradient magnitude thresholding or lower bound cut-off suppression\n",
    "def threshold(image, threshold):\n",
    "    thresholded_image = np.where(image > threshold, image, 0)\n",
    "    return thresholded_image\n",
    "\n"
   ]
  },
  {
   "cell_type": "code",
   "execution_count": 34,
   "metadata": {},
   "outputs": [],
   "source": [
    "#double thresholding\n",
    "def double_threshold(image, low_threshold, high_threshold):\n",
    "    strong_edges = np.where(image > high_threshold, image, 0)\n",
    "    weak_edges = np.where((image <= high_threshold) & (image > low_threshold), image, 0)\n",
    "    return strong_edges, weak_edges\n",
    "\n"
   ]
  },
  {
   "cell_type": "code",
   "execution_count": 35,
   "metadata": {},
   "outputs": [],
   "source": [
    "#edge tracking by hysteresis\n",
    "def hysteresis(image, weak_edges, strong_edges):\n",
    "    height, width = image.shape\n",
    "    for i in range(1, height - 1):\n",
    "        for j in range(1, width - 1):\n",
    "            if weak_edges[i, j] > 0:\n",
    "                if strong_edges[i - 1, j - 1] or strong_edges[i - 1, j] or strong_edges[i - 1, j + 1] or \\\n",
    "                   strong_edges[i, j - 1] or strong_edges[i, j + 1] or \\\n",
    "                   strong_edges[i + 1, j - 1] or strong_edges[i + 1, j] or strong_edges[i + 1, j + 1]:\n",
    "                    image[i, j] = 255\n",
    "                else:\n",
    "                    image[i, j] = 0\n",
    "    return image\n",
    "\n",
    "\n"
   ]
  },
  {
   "cell_type": "code",
   "execution_count": 36,
   "metadata": {},
   "outputs": [],
   "source": [
    "\n",
    "#Canny Edge Detection\n",
    "def canny_edge_detection(image, kernel_size, low_threshold, high_threshold):\n",
    "    # Apply Gaussian blur\n",
    "    blurred_image = gaussianblur(image, kernel_size)\n",
    "    \n",
    "    # Compute gradient magnitude and direction\n",
    "    gradient_magnitude = gradient_intensity(blurred_image)\n",
    "    \n",
    "    # Apply double threshold\n",
    "    strong_edges, weak_edges = double_threshold(gradient_magnitude, low_threshold, high_threshold)\n",
    "    \n",
    "    # Edge tracking by hysteresis\n",
    "    edge_tracked_image = hysteresis(gradient_magnitude, weak_edges, strong_edges)\n",
    "    \n",
    "    return edge_tracked_image\n",
    "\n",
    "\n"
   ]
  },
  {
   "cell_type": "code",
   "execution_count": 51,
   "metadata": {},
   "outputs": [],
   "source": [
    "image = cv2.imread(\"cat.jpg\")\n",
    "gray_image = cv2.cvtColor(image, cv2.COLOR_BGR2GRAY)\n",
    "canny_image = canny_edge_detection(gray_image, kernel_size=6, low_threshold=60, high_threshold=100)\n",
    "\n",
    "cv2.imshow(\"Canny Image\", canny_image.astype(np.uint8))\n",
    "cv2.waitKey(0)\n",
    "cv2.destroyAllWindows()\n"
   ]
  },
  {
   "cell_type": "code",
   "execution_count": null,
   "metadata": {},
   "outputs": [],
   "source": []
  }
 ],
 "metadata": {
  "kernelspec": {
   "display_name": "base",
   "language": "python",
   "name": "python3"
  },
  "language_info": {
   "codemirror_mode": {
    "name": "ipython",
    "version": 3
   },
   "file_extension": ".py",
   "mimetype": "text/x-python",
   "name": "python",
   "nbconvert_exporter": "python",
   "pygments_lexer": "ipython3",
   "version": "3.9.12"
  }
 },
 "nbformat": 4,
 "nbformat_minor": 2
}
